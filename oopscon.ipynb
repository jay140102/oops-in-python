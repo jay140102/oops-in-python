{
 "cells": [
  {
   "cell_type": "code",
   "execution_count": 2,
   "metadata": {},
   "outputs": [],
   "source": [
    " x=\"manish\"\n",
    "class phone:\n",
    "    \n",
    "   \n",
    "    def make_tiktok(self):\n",
    "        global x\n",
    "        print(x,\" is a tiktoker\")\n",
    "        \n",
    "    def make_memes(self):\n",
    "        print(x,\" is a memer\")\n",
    "        \n",
    "\n",
    "\n",
    "\n",
    "        "
   ]
  },
  {
   "cell_type": "code",
   "execution_count": 3,
   "metadata": {},
   "outputs": [],
   "source": [
    "manish=phone()"
   ]
  },
  {
   "cell_type": "code",
   "execution_count": 4,
   "metadata": {},
   "outputs": [
    {
     "name": "stdout",
     "output_type": "stream",
     "text": [
      "manish  is a tiktoker\n"
     ]
    }
   ],
   "source": [
    "manish.make_tiktok()"
   ]
  },
  {
   "cell_type": "code",
   "execution_count": 5,
   "metadata": {},
   "outputs": [
    {
     "name": "stdout",
     "output_type": "stream",
     "text": [
      "manish  is a memer\n"
     ]
    }
   ],
   "source": [
    "manish.make_memes()"
   ]
  },
  {
   "cell_type": "code",
   "execution_count": 6,
   "metadata": {},
   "outputs": [],
   "source": [
    "class mobile:\n",
    "    def set_color(self, color):\n",
    "        self.color=color\n",
    "        \n",
    "    def set_cost(self, cost):\n",
    "        self.cost=cost\n",
    "        \n",
    "    def set_price(self, price):\n",
    "        self.price=price\n",
    "        \n",
    "    def show_color(self):\n",
    "         return self.color\n",
    "     \n",
    "    def show_cost(self):\n",
    "         return self.cost\n",
    "     \n",
    "    def show_price(self):\n",
    "         return self.price\n",
    "     \n",
    "            \n",
    "        "
   ]
  },
  {
   "cell_type": "code",
   "execution_count": 7,
   "metadata": {},
   "outputs": [],
   "source": [
    "ob1=mobile()\n"
   ]
  },
  {
   "cell_type": "code",
   "execution_count": 8,
   "metadata": {},
   "outputs": [],
   "source": [
    "ob1.set_color(\"blue\")"
   ]
  },
  {
   "cell_type": "code",
   "execution_count": 9,
   "metadata": {},
   "outputs": [],
   "source": [
    "ob1.set_cost(\"50000\")"
   ]
  },
  {
   "cell_type": "code",
   "execution_count": 10,
   "metadata": {},
   "outputs": [],
   "source": [
    "ob1.set_price(120000)"
   ]
  },
  {
   "cell_type": "code",
   "execution_count": 11,
   "metadata": {},
   "outputs": [
    {
     "data": {
      "text/plain": [
       "'blue'"
      ]
     },
     "execution_count": 11,
     "metadata": {},
     "output_type": "execute_result"
    }
   ],
   "source": [
    "ob1.show_color()"
   ]
  },
  {
   "cell_type": "code",
   "execution_count": 12,
   "metadata": {},
   "outputs": [
    {
     "data": {
      "text/plain": [
       "'50000'"
      ]
     },
     "execution_count": 12,
     "metadata": {},
     "output_type": "execute_result"
    }
   ],
   "source": [
    "ob1.show_cost()"
   ]
  },
  {
   "cell_type": "code",
   "execution_count": 13,
   "metadata": {},
   "outputs": [
    {
     "data": {
      "text/plain": [
       "120000"
      ]
     },
     "execution_count": 13,
     "metadata": {},
     "output_type": "execute_result"
    }
   ],
   "source": [
    "ob1.show_price()"
   ]
  },
  {
   "cell_type": "code",
   "execution_count": 18,
   "metadata": {},
   "outputs": [],
   "source": [
    "class teacher:\n",
    "    def __init__(self, name,age,salary,gender,address):\n",
    "        self.name = name\n",
    "        self.age = age\n",
    "        self.salary = salary\n",
    "        self.gender = gender\n",
    "        self.address = address\n",
    "        \n",
    "    def show_details(self):\n",
    "        print(\"name of teacher: \", self.name)\n",
    "        print(\"age of teacher: \", self.age)\n",
    "        print(\"salary of teacher: \", self.salary)\n",
    "        print(\"gender of teacher: \", self.gender)\n",
    "        print(\"address of teacher: \", self.address)"
   ]
  },
  {
   "cell_type": "code",
   "execution_count": 21,
   "metadata": {},
   "outputs": [],
   "source": [
    "obj2=teacher(\"mitul\",21,\"0rs\",\"male\",\"ghar\")"
   ]
  },
  {
   "cell_type": "code",
   "execution_count": 23,
   "metadata": {},
   "outputs": [
    {
     "name": "stdout",
     "output_type": "stream",
     "text": [
      "name of teacher:  mitul\n",
      "age of teacher:  21\n",
      "salary of teacher:  0rs\n",
      "gender of teacher:  male\n",
      "address of teacher:  ghar\n"
     ]
    }
   ],
   "source": [
    "obj2.show_details()"
   ]
  },
  {
   "cell_type": "code",
   "execution_count": 48,
   "metadata": {},
   "outputs": [],
   "source": [
    "class men(teacher):\n",
    " \n",
    "    def __init__(self,  name,age,salary,gender,address,height,weight ):\n",
    "        super().__init__( name,age,salary,gender,address )\n",
    "        self.height = height\n",
    "        self.weight = weight\n",
    "        \n",
    "    def show_men(self):\n",
    "        super().show_details()\n",
    "        print(\"height is \",self.height)\n",
    "        print(\"weight is \",self.weight)\n",
    "    "
   ]
  },
  {
   "cell_type": "code",
   "execution_count": 49,
   "metadata": {},
   "outputs": [],
   "source": [
    "ob3=men(\"ajit\",21,\"free\",\"female\",\"bharuch\",\"5.5ft\",\"65kg\")"
   ]
  },
  {
   "cell_type": "code",
   "execution_count": 40,
   "metadata": {},
   "outputs": [
    {
     "name": "stdout",
     "output_type": "stream",
     "text": [
      "name of teacher:  ajit\n",
      "age of teacher:  21\n",
      "salary of teacher:  free\n",
      "gender of teacher:  female\n",
      "address of teacher:  bharuch\n"
     ]
    }
   ],
   "source": [
    "ob3.show_details()"
   ]
  },
  {
   "cell_type": "code",
   "execution_count": 51,
   "metadata": {},
   "outputs": [
    {
     "name": "stdout",
     "output_type": "stream",
     "text": [
      "name of teacher:  ajit\n",
      "age of teacher:  21\n",
      "salary of teacher:  free\n",
      "gender of teacher:  female\n",
      "address of teacher:  bharuch\n",
      "height is  5.5ft\n",
      "weight is  65kg\n"
     ]
    }
   ],
   "source": [
    "ob3.show_men()"
   ]
  },
  {
   "cell_type": "code",
   "execution_count": 54,
   "metadata": {},
   "outputs": [],
   "source": [
    "class parent1:\n",
    "    def assign_str1(self,str1):\n",
    "       self.str1 = str1\n",
    "\n",
    "    def show_str1(self):\n",
    "      print(\"string is \",self.str1)\n",
    "      "
   ]
  },
  {
   "cell_type": "code",
   "execution_count": 56,
   "metadata": {},
   "outputs": [],
   "source": [
    "class parent2:\n",
    "    def assign_str2(self,str2):\n",
    "       self.str2 = str2\n",
    "\n",
    "    def show_str2(self):\n",
    "      print(\"string is \",self.str2)"
   ]
  },
  {
   "cell_type": "code",
   "execution_count": 57,
   "metadata": {},
   "outputs": [],
   "source": [
    "class child(parent1, parent2):\n",
    "    def assign_str3(self,str3):\n",
    "       self.str3 = str3\n",
    "\n",
    "    def show_str3(self):\n",
    "      print(\"string is \",self.str3)"
   ]
  },
  {
   "cell_type": "code",
   "execution_count": 60,
   "metadata": {},
   "outputs": [],
   "source": [
    "obj1=child()"
   ]
  },
  {
   "cell_type": "code",
   "execution_count": 62,
   "metadata": {},
   "outputs": [],
   "source": [
    "obj1.assign_str1(\"boys\")\n",
    "obj1.assign_str2(\"the boys\")\n",
    "obj1.assign_str3(\"the girls\")"
   ]
  },
  {
   "cell_type": "code",
   "execution_count": 64,
   "metadata": {},
   "outputs": [
    {
     "name": "stdout",
     "output_type": "stream",
     "text": [
      "string is  boys\n",
      "string is  the boys\n",
      "string is  the girls\n"
     ]
    }
   ],
   "source": [
    "obj1.show_str1()\n",
    "obj1.show_str2()\n",
    "obj1.show_str3()"
   ]
  },
  {
   "cell_type": "code",
   "execution_count": 65,
   "metadata": {},
   "outputs": [],
   "source": [
    "#multilevel inheritance of grandchildren"
   ]
  },
  {
   "cell_type": "code",
   "execution_count": 66,
   "metadata": {},
   "outputs": [],
   "source": [
    "class parent:\n",
    "    def assign_value(self, value):\n",
    "        self.value = value\n",
    "        \n",
    "    def show_value(self):\n",
    "        print(\"required value is \", self.value)\n",
    "        "
   ]
  },
  {
   "cell_type": "code",
   "execution_count": 68,
   "metadata": {},
   "outputs": [],
   "source": [
    "class child(parent):\n",
    "    def assign_property(self,property):\n",
    "        self.property = property\n",
    "\n",
    "    def show_property(self):\n",
    "        print(\"your property is \", self.property)"
   ]
  },
  {
   "cell_type": "code",
   "execution_count": 70,
   "metadata": {},
   "outputs": [],
   "source": [
    "class grandchild(child):\n",
    "    def assign_asset(self,asset):\n",
    "        self.asset = asset\n",
    "        \n",
    "    def show_asset(self):\n",
    "        print(\"the asset is\",self.asset)"
   ]
  },
  {
   "cell_type": "code",
   "execution_count": 72,
   "metadata": {},
   "outputs": [],
   "source": [
    "tmkoc=grandchild()"
   ]
  },
  {
   "cell_type": "code",
   "execution_count": 74,
   "metadata": {},
   "outputs": [],
   "source": [
    "tmkoc.assign_value(\"good\")\n",
    "tmkoc.assign_property(\"flexible\")\n",
    "tmkoc.assign_asset(\"cow\")"
   ]
  },
  {
   "cell_type": "code",
   "execution_count": 75,
   "metadata": {},
   "outputs": [
    {
     "name": "stdout",
     "output_type": "stream",
     "text": [
      "required value is  good\n",
      "your property is  flexible\n",
      "the asset is cow\n"
     ]
    }
   ],
   "source": [
    "tmkoc.show_value()\n",
    "tmkoc.show_property()\n",
    "tmkoc.show_asset()"
   ]
  }
 ],
 "metadata": {
  "kernelspec": {
   "display_name": "Python 3.9.0 64-bit",
   "language": "python",
   "name": "python3"
  },
  "language_info": {
   "codemirror_mode": {
    "name": "ipython",
    "version": 3
   },
   "file_extension": ".py",
   "mimetype": "text/x-python",
   "name": "python",
   "nbconvert_exporter": "python",
   "pygments_lexer": "ipython3",
   "version": "3.9.0"
  },
  "orig_nbformat": 4,
  "vscode": {
   "interpreter": {
    "hash": "d223958bdf48b61b0a500eaf56a781e451b3f0e5c4ca1fe76a92ce8d2a55e492"
   }
  }
 },
 "nbformat": 4,
 "nbformat_minor": 2
}
