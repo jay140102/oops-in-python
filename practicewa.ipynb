{
 "cells": [
  {
   "cell_type": "code",
   "execution_count": 1,
   "metadata": {},
   "outputs": [],
   "source": [
    "#loop\n"
   ]
  },
  {
   "cell_type": "code",
   "execution_count": 2,
   "metadata": {},
   "outputs": [],
   "source": [
    "li=[\"apple\", \"orange\", \"banana\"]"
   ]
  },
  {
   "cell_type": "code",
   "execution_count": 3,
   "metadata": {},
   "outputs": [
    {
     "name": "stdout",
     "output_type": "stream",
     "text": [
      "apple\n",
      "orange\n",
      "banana\n"
     ]
    }
   ],
   "source": [
    "for i in li :\n",
    "    print(i)"
   ]
  },
  {
   "cell_type": "code",
   "execution_count": 4,
   "metadata": {},
   "outputs": [],
   "source": [
    "l1=[\"book\",\"chair\",\"phone\"]\n",
    "l2=[\"green\",\"red\",\"blue\"]\n"
   ]
  },
  {
   "cell_type": "code",
   "execution_count": 5,
   "metadata": {},
   "outputs": [
    {
     "name": "stdout",
     "output_type": "stream",
     "text": [
      "green book\n",
      "red book\n",
      "blue book\n",
      "green chair\n",
      "red chair\n",
      "blue chair\n",
      "green phone\n",
      "red phone\n",
      "blue phone\n"
     ]
    }
   ],
   "source": [
    "for i in l1:\n",
    "    for j in l2:\n",
    "        print(j,i)"
   ]
  },
  {
   "cell_type": "code",
   "execution_count": 6,
   "metadata": {},
   "outputs": [
    {
     "name": "stdout",
     "output_type": "stream",
     "text": [
      "number is odd\n"
     ]
    }
   ],
   "source": [
    "num = int(input(\"enter your number\"))\n",
    "if (num%2)==0:\n",
    "    print(\"number is even\")\n",
    "else:\n",
    "    print(\"number is odd\")    "
   ]
  },
  {
   "cell_type": "code",
   "execution_count": 7,
   "metadata": {},
   "outputs": [
    {
     "name": "stdout",
     "output_type": "stream",
     "text": [
      "positive number\n"
     ]
    }
   ],
   "source": [
    "num=float(input(\"enter your number\"))\n",
    "if num>0:\n",
    "    print(\"positive number\")\n",
    "elif num==0:\n",
    "    print(\"zero\")\n",
    "else:\n",
    "    print(\"negative number\")"
   ]
  },
  {
   "cell_type": "code",
   "execution_count": 8,
   "metadata": {},
   "outputs": [],
   "source": [
    "#factorial number"
   ]
  },
  {
   "cell_type": "code",
   "execution_count": 9,
   "metadata": {},
   "outputs": [
    {
     "name": "stdout",
     "output_type": "stream",
     "text": [
      "the factorial of 7 is 5040\n"
     ]
    }
   ],
   "source": [
    "num=int(input(\"enter your number\"))\n",
    "factorial=1\n",
    "if num<0:\n",
    "    print(\"pls enter positive intigers only\")\n",
    "elif num==0:\n",
    "    print(\"the factorial of zero is 1\")\n",
    "else:\n",
    "    for i in range(1,num+1):\n",
    "        factorial=factorial*i\n",
    "        \n",
    "    print(\"the factorial of\",num,\"is\",factorial)\n",
    "        \n",
    "        "
   ]
  },
  {
   "cell_type": "code",
   "execution_count": 10,
   "metadata": {},
   "outputs": [],
   "source": [
    "# reversing a number"
   ]
  },
  {
   "cell_type": "code",
   "execution_count": 11,
   "metadata": {},
   "outputs": [
    {
     "name": "stdout",
     "output_type": "stream",
     "text": [
      "reverse of number:  8\n"
     ]
    }
   ],
   "source": [
    "n=int(input(\"enter number: \"))\n",
    "rev=0\n",
    "while(n>0):\n",
    "     dig=n%10\n",
    "     rev=rev*10+dig\n",
    "     n=n//10\n",
    "print(\"reverse of number: \", rev)\n"
   ]
  },
  {
   "cell_type": "code",
   "execution_count": 12,
   "metadata": {},
   "outputs": [
    {
     "name": "stdout",
     "output_type": "stream",
     "text": [
      "9 is a palindrome\n"
     ]
    }
   ],
   "source": [
    "x=int(input(\"enter number \"))\n",
    "bg=x\n",
    "r=0\n",
    "while  (x>0):\n",
    "    val=x%10\n",
    "    r=r*10+val\n",
    "    x=x//10\n",
    "if (bg==r):\n",
    "    print(r,\"is a palindrome\")\n",
    "else:\n",
    "    print(r,\"is not a palindrome\")\n",
    "    "
   ]
  },
  {
   "cell_type": "code",
   "execution_count": 13,
   "metadata": {},
   "outputs": [],
   "source": [
    "# fibonaci number\n"
   ]
  },
  {
   "cell_type": "code",
   "execution_count": 14,
   "metadata": {},
   "outputs": [
    {
     "name": "stdout",
     "output_type": "stream",
     "text": [
      "8\n"
     ]
    }
   ],
   "source": [
    "n=int(input(\"enter your integer value\"))\n",
    "a=1\n",
    "b=1\n",
    "if n<0:\n",
    "    print(\"enter valid value\")\n",
    "elif n==0:\n",
    "    print(a)\n",
    "elif n==1:\n",
    "    print(b)\n",
    "else:\n",
    "    for i in range(2,n):\n",
    "        c=a+b\n",
    "        a=b\n",
    "        b=c\n",
    "    print(b)\n",
    "        \n",
    "    "
   ]
  },
  {
   "cell_type": "code",
   "execution_count": 15,
   "metadata": {},
   "outputs": [
    {
     "name": "stdout",
     "output_type": "stream",
     "text": [
      "10006\n",
      "10015\n",
      "10024\n",
      "10033\n",
      "10042\n",
      "10051\n",
      "10060\n",
      "10105\n",
      "10114\n",
      "10123\n",
      "10132\n",
      "10141\n",
      "10150\n",
      "10204\n",
      "10213\n",
      "10222\n",
      "10231\n",
      "10240\n",
      "10303\n",
      "10312\n",
      "10321\n",
      "10330\n",
      "10402\n",
      "10411\n",
      "10420\n",
      "10501\n",
      "10510\n",
      "10600\n",
      "11005\n",
      "11014\n",
      "11023\n",
      "11032\n",
      "11041\n",
      "11050\n",
      "11104\n",
      "11113\n",
      "11122\n",
      "11131\n",
      "11140\n",
      "11203\n",
      "11212\n",
      "11221\n",
      "11230\n",
      "11302\n",
      "11311\n",
      "11320\n",
      "11401\n",
      "11410\n",
      "11500\n",
      "12004\n",
      "12013\n",
      "12022\n",
      "12031\n",
      "12040\n",
      "12103\n",
      "12112\n",
      "12121\n",
      "12130\n",
      "12202\n",
      "12211\n",
      "12220\n",
      "12301\n",
      "12310\n",
      "12400\n",
      "13003\n",
      "13012\n",
      "13021\n",
      "13030\n",
      "13102\n",
      "13111\n",
      "13120\n",
      "13201\n",
      "13210\n",
      "13300\n",
      "14002\n",
      "14011\n",
      "14020\n",
      "14101\n",
      "14110\n",
      "14200\n",
      "15001\n",
      "15010\n",
      "15100\n",
      "16000\n",
      "20005\n",
      "20014\n",
      "20023\n",
      "20032\n",
      "20041\n",
      "20050\n",
      "20104\n",
      "20113\n",
      "20122\n",
      "20131\n",
      "20140\n",
      "20203\n",
      "20212\n",
      "20221\n",
      "20230\n",
      "20302\n",
      "20311\n",
      "20320\n",
      "20401\n",
      "20410\n",
      "20500\n",
      "21004\n",
      "21013\n",
      "21022\n",
      "21031\n",
      "21040\n",
      "21103\n",
      "21112\n",
      "21121\n",
      "21130\n",
      "21202\n",
      "21211\n",
      "21220\n",
      "21301\n",
      "21310\n",
      "21400\n",
      "22003\n",
      "22012\n",
      "22021\n",
      "22030\n",
      "22102\n",
      "22111\n",
      "22120\n",
      "22201\n",
      "22210\n",
      "22300\n",
      "23002\n",
      "23011\n",
      "23020\n",
      "23101\n",
      "23110\n",
      "23200\n",
      "24001\n",
      "24010\n",
      "24100\n",
      "25000\n",
      "30004\n",
      "30013\n",
      "30022\n",
      "30031\n",
      "30040\n",
      "30103\n",
      "30112\n",
      "30121\n",
      "30130\n",
      "30202\n",
      "30211\n",
      "30220\n",
      "30301\n",
      "30310\n",
      "30400\n",
      "31003\n",
      "31012\n",
      "31021\n",
      "31030\n",
      "31102\n",
      "31111\n",
      "31120\n",
      "31201\n",
      "31210\n",
      "31300\n",
      "32002\n",
      "32011\n",
      "32020\n",
      "32101\n",
      "32110\n",
      "32200\n",
      "33001\n",
      "33010\n",
      "33100\n",
      "34000\n",
      "40003\n",
      "40012\n",
      "40021\n",
      "40030\n",
      "40102\n",
      "40111\n",
      "40120\n",
      "40201\n",
      "40210\n",
      "40300\n",
      "41002\n",
      "41011\n",
      "41020\n",
      "41101\n",
      "41110\n",
      "41200\n",
      "42001\n",
      "42010\n",
      "42100\n",
      "43000\n",
      "50002\n",
      "50011\n",
      "50020\n",
      "50101\n",
      "50110\n",
      "50200\n",
      "51001\n",
      "51010\n",
      "51100\n",
      "52000\n",
      "60001\n",
      "60010\n",
      "60100\n",
      "61000\n",
      "70000\n",
      "210\n"
     ]
    }
   ],
   "source": [
    "st =  10000\n",
    "end = 70001\n",
    "z = 0\n",
    "for i in range(st,end):\n",
    "    s = str(i)\n",
    "    x = 0\n",
    "    for j in s:\n",
    "        x += int(j)\n",
    "    if x == 7:\n",
    "        print(i)\n",
    "        z+=1\n",
    "print(z)\n",
    "\n",
    "        \n",
    "\n",
    "\n"
   ]
  },
  {
   "cell_type": "code",
   "execution_count": 16,
   "metadata": {},
   "outputs": [
    {
     "name": "stdout",
     "output_type": "stream",
     "text": [
      "120\n"
     ]
    }
   ],
   "source": [
    "from itertools import permutations\n",
    "\n",
    "comb=permutations([2,2,1,1,1],5)\n",
    "z=0\n",
    "for i in comb:\n",
    "    x=sum(i)\n",
    "    z+=1\n",
    "\n",
    "print(z)\n",
    "   \n",
    "    \n",
    "    \n",
    "    "
   ]
  },
  {
   "cell_type": "code",
   "execution_count": 17,
   "metadata": {},
   "outputs": [
    {
     "name": "stdout",
     "output_type": "stream",
     "text": [
      "[5]\n",
      "desired list is : [5]\n"
     ]
    }
   ],
   "source": [
    "\n",
    "\n",
    "def reverseList(A,s,n):\n",
    "    n = n-1\n",
    "    \n",
    "    while s<n:\n",
    "        # print(s ,n)\n",
    "        A[s],A[n]=A[n],A[s]\n",
    "        s+=1\n",
    "        n-=1\n",
    "\n",
    "A=list(map(int,input(\"enter numbers\").split()))\n",
    "# A = [1,2,3,4]\n",
    "print(A)\n",
    "x = len(A)\n",
    "reverseList(A,0,x)\n",
    "\n",
    "print(\"desired list is :\",A)\n",
    "    \n",
    "\n"
   ]
  },
  {
   "cell_type": "code",
   "execution_count": 18,
   "metadata": {},
   "outputs": [
    {
     "name": "stdout",
     "output_type": "stream",
     "text": [
      "* \n",
      "* * \n",
      "* * * \n",
      "* * * * \n",
      "* * * * * \n",
      "* * * * * * \n"
     ]
    }
   ],
   "source": [
    "class StarPattern:   \n",
    "    def print_star(self , n):\n",
    "        \n",
    "        for i in range(n):\n",
    "            for j in range(i+1):\n",
    "                print(\"*\",end=' ')\n",
    "                \n",
    "            print()\n",
    "\n",
    "inputt = int(input(\"enter n : \"))\n",
    "onj = StarPattern()\n",
    "onj.print_star(inputt)"
   ]
  },
  {
   "cell_type": "code",
   "execution_count": 19,
   "metadata": {},
   "outputs": [],
   "source": [
    "\n",
    "class starpattern1(StarPattern):\n",
    "    def print_otherpattern(self,n):\n",
    "        for i in range(n):\n",
    "            for j in range(i,n):\n",
    "                print(\"*\",end=' ')\n",
    "       \n",
    "            print()  \n",
    "            \n",
    "    def print_starpattern2(self,n):\n",
    "        for i in range(n):\n",
    "            for j in range(i,n):  \n",
    "                print(' ',end=' ')  \n",
    "                \n",
    "            for j in range(i+1):\n",
    "                print(\"*\",end=' ')\n",
    "                \n",
    "            print()\n",
    "            \n",
    "    def tilth_triangle(self,n):\n",
    "        for i in range(n):\n",
    "            for j in range(i+1):\n",
    "                print(' ',end=' ')\n",
    "                \n",
    "            for j in range(i,n):\n",
    "                print(\"*\",end=' ')\n",
    "                \n",
    "            print()"
   ]
  },
  {
   "cell_type": "code",
   "execution_count": 20,
   "metadata": {},
   "outputs": [],
   "source": [
    "obj6=starpattern1()"
   ]
  },
  {
   "cell_type": "code",
   "execution_count": 21,
   "metadata": {},
   "outputs": [
    {
     "name": "stdout",
     "output_type": "stream",
     "text": [
      "* * * * * \n",
      "* * * * \n",
      "* * * \n",
      "* * \n",
      "* \n"
     ]
    }
   ],
   "source": [
    "obj6.print_otherpattern(5)"
   ]
  },
  {
   "cell_type": "code",
   "execution_count": 22,
   "metadata": {},
   "outputs": [
    {
     "name": "stdout",
     "output_type": "stream",
     "text": [
      "* \n",
      "* * \n",
      "* * * \n",
      "* * * * \n",
      "* * * * * \n",
      "* * * * * * \n"
     ]
    }
   ],
   "source": [
    "obj6.print_star(inputt)\n"
   ]
  },
  {
   "cell_type": "code",
   "execution_count": 23,
   "metadata": {},
   "outputs": [
    {
     "name": "stdout",
     "output_type": "stream",
     "text": [
      "  * * * * * \n",
      "    * * * * \n",
      "      * * * \n",
      "        * * \n",
      "          * \n"
     ]
    }
   ],
   "source": [
    "obj6.tilth_triangle(5)"
   ]
  },
  {
   "cell_type": "code",
   "execution_count": 24,
   "metadata": {},
   "outputs": [
    {
     "name": "stdout",
     "output_type": "stream",
     "text": [
      "          * \n",
      "        * * \n",
      "      * * * \n",
      "    * * * * \n",
      "  * * * * * \n"
     ]
    }
   ],
   "source": [
    "obj6.print_starpattern2(5)"
   ]
  },
  {
   "cell_type": "code",
   "execution_count": 25,
   "metadata": {},
   "outputs": [
    {
     "name": "stdout",
     "output_type": "stream",
     "text": [
      "          * \n",
      "        * * * \n",
      "      * * * * * \n",
      "    * * * * * * * \n",
      "  * * * * * * * * * \n"
     ]
    }
   ],
   "source": [
    "class starpattern3:\n",
    "    def com_starpattern(self,n):\n",
    "        for i in range(n):\n",
    "            for j in range(i,n):\n",
    "                print(' ',end=' ')\n",
    "                \n",
    "            for j in range(i):\n",
    "                print(\"*\",end=' ')\n",
    "                \n",
    "            for j in range(i+1):\n",
    "                print(\"*\",end=' ')\n",
    "                \n",
    "            print()\n",
    "            \n",
    "    def com_starpattern2(self,n):\n",
    "        for i in range(n):\n",
    "            for j in range(i+1):\n",
    "                print(' ',end=' ')\n",
    "                \n",
    "            for j in range(i,n-1):\n",
    "                print(\"*\",end=' ')\n",
    "                \n",
    "            for j in range(i,n):\n",
    "                print(\"*\",end=' ')\n",
    "                \n",
    "            print()\n",
    "            \n",
    "    def com_starpatterndim(self,n):\n",
    "        for i in range(n):\n",
    "            for j in range(i,n):\n",
    "                print(' ',end=' ')\n",
    "                \n",
    "            for j in range(i):\n",
    "                print(\"*\",end=' ')\n",
    "                \n",
    "            for j in range(i+1):\n",
    "                print(\"*\",end=' ')\n",
    "                \n",
    "            print()\n",
    "            \n",
    "        for i in range(1,n):\n",
    "            for j in range(i+1):\n",
    "                print(' ',end=' ')\n",
    "                \n",
    "            for j in range(i,n-1):\n",
    "                print(\"*\",end=' ')\n",
    "                \n",
    "            for j in range(i,n):\n",
    "                print(\"*\",end=' ')\n",
    "                \n",
    "            print()\n",
    "        \n",
    " \n",
    "obj7=starpattern3()\n",
    "\n",
    "obj7.com_starpattern(5)       "
   ]
  },
  {
   "cell_type": "code",
   "execution_count": 26,
   "metadata": {},
   "outputs": [
    {
     "name": "stdout",
     "output_type": "stream",
     "text": [
      "  * * * * * * * * * \n",
      "    * * * * * * * \n",
      "      * * * * * \n",
      "        * * * \n",
      "          * \n"
     ]
    }
   ],
   "source": [
    "obj7.com_starpattern2(5)"
   ]
  },
  {
   "cell_type": "code",
   "execution_count": 28,
   "metadata": {},
   "outputs": [
    {
     "name": "stdout",
     "output_type": "stream",
     "text": [
      "          * \n",
      "        * * * \n",
      "      * * * * * \n",
      "    * * * * * * * \n",
      "  * * * * * * * * * \n",
      "    * * * * * * * \n",
      "      * * * * * \n",
      "        * * * \n",
      "          * \n"
     ]
    }
   ],
   "source": [
    "obj7.com_starpatterndim(5)"
   ]
  },
  {
   "cell_type": "code",
   "execution_count": 9,
   "metadata": {},
   "outputs": [],
   "source": [
    "class blankdimond():\n",
    "    def blankpyramidp(self,n):\n",
    "        for i in range(n):\n",
    "            for j in range(i,n):\n",
    "                print(\"*\",end='  ')\n",
    "                \n",
    "            for j in range(i):\n",
    "                print(' ',end='  ')\n",
    "                \n",
    "            for j in range(i):\n",
    "                print(' ',end='  ')\n",
    "                \n",
    "            for j in range(i,n):\n",
    "                print(\"*\",end='  ')\n",
    "                \n",
    "            print()\n",
    "            \n",
    "    def blankpyramidp2(self,n): \n",
    "        for i in range(n):\n",
    "            for j in range(i+1):\n",
    "                print(\"*\",end='  ')\n",
    "            for j in range(i,n-1):\n",
    "                print(' ',end='  ')\n",
    "            for j in range(i,n-1):\n",
    "                print(' ',end='  ')\n",
    "            for j in range(i+1):\n",
    "                print(\"*\",end='  ')\n",
    "            print()\n",
    "            \n",
    "    def realblankpyramid(self,n):\n",
    "        for i in range(n-1):\n",
    "            for j in range(i,n):\n",
    "                print(\"*\",end='  ')\n",
    "                \n",
    "            for j in range(i):\n",
    "                print(' ',end='  ')\n",
    "                \n",
    "            for j in range(i):\n",
    "                print(' ',end='  ')\n",
    "                \n",
    "            for j in range(i,n):\n",
    "                print(\"*\",end='  ')\n",
    "                \n",
    "            print()\n",
    "            \n",
    "        for i in range(n):\n",
    "            for j in range(i+1):\n",
    "                print(\"*\",end='  ')\n",
    "            for j in range(i,n-1):\n",
    "                print(' ',end='  ')\n",
    "            for j in range(i,n-1):\n",
    "                print(' ',end='  ')\n",
    "            for j in range(i+1):\n",
    "                print(\"*\",end='  ')\n",
    "            print()\n",
    "        "
   ]
  },
  {
   "cell_type": "code",
   "execution_count": 10,
   "metadata": {},
   "outputs": [
    {
     "name": "stdout",
     "output_type": "stream",
     "text": [
      "*  *  *  *  *  *  *  *  *  *  \n",
      "*  *  *  *        *  *  *  *  \n",
      "*  *  *              *  *  *  \n",
      "*  *                    *  *  \n",
      "*                          *  \n"
     ]
    }
   ],
   "source": [
    "\n",
    "ptrn=blankdimond()\n",
    "ptrn.blankpyramidp(5)"
   ]
  },
  {
   "cell_type": "code",
   "execution_count": 3,
   "metadata": {},
   "outputs": [
    {
     "name": "stdout",
     "output_type": "stream",
     "text": [
      "*                          *  \n",
      "*  *                    *  *  \n",
      "*  *  *              *  *  *  \n",
      "*  *  *  *        *  *  *  *  \n",
      "*  *  *  *  *  *  *  *  *  *  \n"
     ]
    }
   ],
   "source": [
    "ptrn.blankpyramidp2(5)"
   ]
  },
  {
   "cell_type": "code",
   "execution_count": 11,
   "metadata": {},
   "outputs": [
    {
     "name": "stdout",
     "output_type": "stream",
     "text": [
      "*  *  *  *  *  *  *  *  *  *  \n",
      "*  *  *  *        *  *  *  *  \n",
      "*  *  *              *  *  *  \n",
      "*  *                    *  *  \n",
      "*                          *  \n",
      "*  *                    *  *  \n",
      "*  *  *              *  *  *  \n",
      "*  *  *  *        *  *  *  *  \n",
      "*  *  *  *  *  *  *  *  *  *  \n"
     ]
    }
   ],
   "source": [
    "ptrn.realblankpyramid(5)"
   ]
  }
 ],
 "metadata": {
  "kernelspec": {
   "display_name": "Python 3.9.0 64-bit",
   "language": "python",
   "name": "python3"
  },
  "language_info": {
   "codemirror_mode": {
    "name": "ipython",
    "version": 3
   },
   "file_extension": ".py",
   "mimetype": "text/x-python",
   "name": "python",
   "nbconvert_exporter": "python",
   "pygments_lexer": "ipython3",
   "version": "3.9.0"
  },
  "orig_nbformat": 4,
  "vscode": {
   "interpreter": {
    "hash": "d223958bdf48b61b0a500eaf56a781e451b3f0e5c4ca1fe76a92ce8d2a55e492"
   }
  }
 },
 "nbformat": 4,
 "nbformat_minor": 2
}
